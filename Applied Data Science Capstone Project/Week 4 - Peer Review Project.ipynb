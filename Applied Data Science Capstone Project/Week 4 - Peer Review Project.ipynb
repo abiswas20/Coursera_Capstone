{
 "cells": [
  {
   "cell_type": "markdown",
   "metadata": {},
   "source": [
    "## Project Instructions\n",
    "\n",
    "Now that you have been equipped with the skills and the tools to use location data to explore a geographical location, over the course of two weeks, you will have the opportunity to be as creative as you want and come up with an idea to leverage the Foursquare location data to explore or compare neighborhoods or cities of your choice or to come up with a problem that you can use the Foursquare location data to solve. If you cannot think of an idea or a problem, here are some ideas to get you started:\n",
    "\n",
    "  1.  In Module 3, we explored New York City and the city of Toronto and segmented and clustered their neighborhoods. Both cities are very diverse and are the financial capitals of their respective countries. One interesting idea would be to compare the neighborhoods of the two cities and determine how similar or dissimilar they are. Is New York City more like Toronto or Paris or some other multicultural city? I will leave it to you to refine this idea.\n",
    "  2. In a city of your choice, if someone is looking to open a restaurant, where would you recommend that they open it? Similarly, if a contractor is trying to start their own business, where would you recommend that they setup their office?\n",
    "\n",
    "These are just a couple of many ideas and problems that can be solved using location data in addition to other datasets. No matter what you decide to do, make sure to provide sufficient justification of why you think what you want to do or solve is important and why would a client or a group of people be interested in your project."
   ]
  },
  {
   "cell_type": "markdown",
   "metadata": {},
   "source": [
    "For this week, you will required to submit the following:\n",
    "\n",
    "    A description of the problem and a discussion of the background. (15 marks)\n",
    "    A description of the data and how it will be used to solve the problem. (15 marks)"
   ]
  },
  {
   "cell_type": "markdown",
   "metadata": {},
   "source": [
    "## The Problem"
   ]
  },
  {
   "cell_type": "markdown",
   "metadata": {},
   "source": [
    "In this hypothetical situation, our client, who is an entrepreneur, wants to open an independent coffee shop in Toronto. We have been assigned to search for the best possible neighborhood. Our job is to use data science and analysis and recommend a list of such possible neighborhoods."
   ]
  },
  {
   "cell_type": "markdown",
   "metadata": {},
   "source": [
    "## Introduction (Problem Details and Background)"
   ]
  },
  {
   "cell_type": "markdown",
   "metadata": {},
   "source": [
    "Toronto is the largest city and the financial capital of Canada. And as one would expect, the market for coffee shops for the most part has already been served by existing businesses. We give special attention to the following to find remaining opportunities in this highly competitive market:\n",
    "\n",
    "1. Population: The neighborhood  to have a large enough population for a new coffee shop to find its own patrons.\n",
    "2. Average Income: After accounting for employees, rent and utilities the price of a cup of coffee will have to be on the higher end for a business to survive. So the average income of people in the neighborhood need to be ideally in the top 50%.\n",
    "3. Walkability: New coffee shops usually do better where there is foot traffic and people take a risk of exploring new venues. A higher Walk Score would make for a better potential cadidate.\n",
    "4. Business atmosphere: We want to see a lot of examples of already successful businesses, indicating a good environment for business. Moreover, the existence of multiple successful coffee shops in the neighborhood would be a huge plus.\n",
    "5. Parks and Playgrounds: Such spaces for recreation invites lots of people, including new faces, everyday. This is especially true in large cities.\n",
    "\n",
    "We want to be in a cluster which has high scores is as many of the five factors above as possible. Finally we need to be cognizant about property prices and find the \"biggest bang for the buck\". Above a certain price, it's very likely we'll see barely any improvement in the factors listed above."
   ]
  },
  {
   "cell_type": "markdown",
   "metadata": {},
   "source": [
    "## Data: Source and Usage"
   ]
  },
  {
   "cell_type": "markdown",
   "metadata": {},
   "source": [
    "Sources of various data used in the analysis are listed below:\n",
    "1. Population, Average income - Wikipedia\n",
    "2. Walkability - Wellbeing Toronto Civics Equity Indicators (Toronto Open Data)\n",
    "3. Businesses - Wellbeing Toronto Economics (Toronto Open Data)\n",
    "4. Coffee shops - Foursquare API\n",
    "5. Parks and Playgrounds - Foursquare API\n",
    "6. Home prices - Wellbeing Toronto Economics (Toronto Open Data)\n",
    "\n",
    "Data on population, average income, walkability, neighborhood businesses including coffee shops and recreational spaces are used to analyze the five factors highlighted previously in the introduction. We normalize the data so that all the features have equal weight and have values between 0 and 1. We cluster them into 4 clusters, choose the ones whose centroid has the highest value (by square root of sum of square of coordinates). Finally, we compare property prices of the list of selected neighborhoods and choose a list of 3-5 desired neighborhoods. \n"
   ]
  },
  {
   "cell_type": "code",
   "execution_count": null,
   "metadata": {},
   "outputs": [],
   "source": []
  }
 ],
 "metadata": {
  "kernelspec": {
   "display_name": "Python 3",
   "language": "python",
   "name": "python3"
  },
  "language_info": {
   "codemirror_mode": {
    "name": "ipython",
    "version": 3
   },
   "file_extension": ".py",
   "mimetype": "text/x-python",
   "name": "python",
   "nbconvert_exporter": "python",
   "pygments_lexer": "ipython3",
   "version": "3.6.9"
  }
 },
 "nbformat": 4,
 "nbformat_minor": 4
}
